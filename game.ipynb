{
 "cells": [
  {
   "cell_type": "code",
   "execution_count": 2,
   "metadata": {},
   "outputs": [
    {
     "name": "stdout",
     "output_type": "stream",
     "text": [
      "You guessed it wrong! Enter a larger number.\n",
      "You guessed it wrong! Enter a larger number.\n",
      "You guessed it wrong! Enter a smaller number.\n",
      "You guessed it wrong! Enter a larger number.\n"
     ]
    }
   ],
   "source": [
    "import random\n",
    "randNumber = random.randint(1,100)\n",
    "userGuess = None\n",
    "guesses = 0\n",
    "\n",
    "while(userGuess != randNumber):\n",
    "    userGuess = int(input(\"Enter your guess: \"))\n",
    "    guesses += 1\n",
    "    if(userGuess==randNumber):\n",
    "        print(\"You guessed it right!\")\n",
    "    else:\n",
    "        if(userGuess>randNumber):\n",
    "            print(\"You guessed it wrong! Enter a smaller number.\")\n",
    "        else:\n",
    "            print(\"You guessed it wrong! Enter a larger number.\")"
   ]
  }
 ],
 "metadata": {
  "kernelspec": {
   "display_name": "Python 3",
   "language": "python",
   "name": "python3"
  },
  "language_info": {
   "codemirror_mode": {
    "name": "ipython",
    "version": 3
   },
   "file_extension": ".py",
   "mimetype": "text/x-python",
   "name": "python",
   "nbconvert_exporter": "python",
   "pygments_lexer": "ipython3",
   "version": "3.11.4"
  },
  "orig_nbformat": 4
 },
 "nbformat": 4,
 "nbformat_minor": 2
}
